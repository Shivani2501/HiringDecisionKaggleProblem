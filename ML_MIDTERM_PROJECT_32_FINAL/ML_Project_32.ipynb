{
 "cells": [
  {
   "cell_type": "markdown",
   "id": "YRVPYwXiYFLh",
   "metadata": {
    "id": "YRVPYwXiYFLh"
   },
   "source": [
    "**ML MID TERM PROJECT - TEAM 32**\n",
    "\n",
    "Project Topic 6 (Hiring Decision)\n",
    "\n",
    "\n",
    "> MS2024013 - Mahima\n",
    "\n",
    "> MT2024146 - Shivani Sanjiv Shukla\n",
    "\n",
    "> MT2024901 - Fitriana Prasari Dewi\n",
    "\n",
    "\n",
    "\n",
    "\n",
    "\n"
   ]
  },
  {
   "cell_type": "code",
   "execution_count": null,
   "id": "dMkNmx55YDsE",
   "metadata": {
    "id": "dMkNmx55YDsE"
   },
   "outputs": [],
   "source": [
    "import pandas as pd\n",
    "import numpy as np\n",
    "import matplotlib.pyplot as plt\n",
    "%matplotlib inline\n",
    "import seaborn as sns"
   ]
  },
  {
   "cell_type": "code",
   "execution_count": null,
   "id": "97c266ca-2732-4859-803d-81ac3927879f",
   "metadata": {
    "id": "97c266ca-2732-4859-803d-81ac3927879f",
    "outputId": "b263df1f-4260-4e5f-a42e-ea65fc87c8dd"
   },
   "outputs": [
    {
     "data": {
      "text/plain": [
       "Index(['Age', 'Gender', 'EducationLevel', 'ExperienceYears',\n",
       "       'PreviousCompanies', 'DistanceFromCompany', 'InterviewScore',\n",
       "       'SkillScore', 'PersonalityScore', 'RecruitmentStrategy',\n",
       "       'HiringDecision'],\n",
       "      dtype='object')"
      ]
     },
     "execution_count": 2,
     "metadata": {},
     "output_type": "execute_result"
    }
   ],
   "source": [
    "df= pd.read_csv('recruitment_data.csv')\n",
    "df.head()\n",
    "df.columns"
   ]
  },
  {
   "cell_type": "code",
   "execution_count": null,
   "id": "21a73cb6-c8bb-45c0-b9f3-c60d3c8b5fc0",
   "metadata": {
    "id": "21a73cb6-c8bb-45c0-b9f3-c60d3c8b5fc0",
    "outputId": "e02fe304-cb9a-44a8-e26d-c9388fae1009"
   },
   "outputs": [
    {
     "name": "stdout",
     "output_type": "stream",
     "text": [
      "<class 'pandas.core.frame.DataFrame'>\n",
      "RangeIndex: 1500 entries, 0 to 1499\n",
      "Data columns (total 11 columns):\n",
      " #   Column               Non-Null Count  Dtype  \n",
      "---  ------               --------------  -----  \n",
      " 0   Age                  1500 non-null   int64  \n",
      " 1   Gender               1500 non-null   int64  \n",
      " 2   EducationLevel       1500 non-null   int64  \n",
      " 3   ExperienceYears      1500 non-null   int64  \n",
      " 4   PreviousCompanies    1500 non-null   int64  \n",
      " 5   DistanceFromCompany  1500 non-null   float64\n",
      " 6   InterviewScore       1500 non-null   int64  \n",
      " 7   SkillScore           1500 non-null   int64  \n",
      " 8   PersonalityScore     1500 non-null   int64  \n",
      " 9   RecruitmentStrategy  1500 non-null   int64  \n",
      " 10  HiringDecision       1500 non-null   int64  \n",
      "dtypes: float64(1), int64(10)\n",
      "memory usage: 129.0 KB\n"
     ]
    }
   ],
   "source": [
    "df.info()"
   ]
  },
  {
   "cell_type": "code",
   "execution_count": null,
   "id": "eea6094f-5d50-4540-a425-d61cdaf9bc3d",
   "metadata": {
    "id": "eea6094f-5d50-4540-a425-d61cdaf9bc3d",
    "outputId": "52b1723c-acd9-407c-c513-58b7c3c7bfe3"
   },
   "outputs": [
    {
     "data": {
      "text/html": [
       "<div>\n",
       "<style scoped>\n",
       "    .dataframe tbody tr th:only-of-type {\n",
       "        vertical-align: middle;\n",
       "    }\n",
       "\n",
       "    .dataframe tbody tr th {\n",
       "        vertical-align: top;\n",
       "    }\n",
       "\n",
       "    .dataframe thead th {\n",
       "        text-align: right;\n",
       "    }\n",
       "</style>\n",
       "<table border=\"1\" class=\"dataframe\">\n",
       "  <thead>\n",
       "    <tr style=\"text-align: right;\">\n",
       "      <th></th>\n",
       "      <th>Age</th>\n",
       "      <th>Gender</th>\n",
       "      <th>EducationLevel</th>\n",
       "      <th>ExperienceYears</th>\n",
       "      <th>PreviousCompanies</th>\n",
       "      <th>DistanceFromCompany</th>\n",
       "      <th>InterviewScore</th>\n",
       "      <th>SkillScore</th>\n",
       "      <th>PersonalityScore</th>\n",
       "      <th>RecruitmentStrategy</th>\n",
       "      <th>HiringDecision</th>\n",
       "    </tr>\n",
       "  </thead>\n",
       "  <tbody>\n",
       "    <tr>\n",
       "      <th>count</th>\n",
       "      <td>1500.000000</td>\n",
       "      <td>1500.000000</td>\n",
       "      <td>1500.000000</td>\n",
       "      <td>1500.000000</td>\n",
       "      <td>1500.00000</td>\n",
       "      <td>1500.000000</td>\n",
       "      <td>1500.000000</td>\n",
       "      <td>1500.000000</td>\n",
       "      <td>1500.000000</td>\n",
       "      <td>1500.000000</td>\n",
       "      <td>1500.000000</td>\n",
       "    </tr>\n",
       "    <tr>\n",
       "      <th>mean</th>\n",
       "      <td>35.148667</td>\n",
       "      <td>0.492000</td>\n",
       "      <td>2.188000</td>\n",
       "      <td>7.694000</td>\n",
       "      <td>3.00200</td>\n",
       "      <td>25.505379</td>\n",
       "      <td>50.564000</td>\n",
       "      <td>51.116000</td>\n",
       "      <td>49.387333</td>\n",
       "      <td>1.893333</td>\n",
       "      <td>0.310000</td>\n",
       "    </tr>\n",
       "    <tr>\n",
       "      <th>std</th>\n",
       "      <td>9.252728</td>\n",
       "      <td>0.500103</td>\n",
       "      <td>0.862449</td>\n",
       "      <td>4.641414</td>\n",
       "      <td>1.41067</td>\n",
       "      <td>14.567151</td>\n",
       "      <td>28.626215</td>\n",
       "      <td>29.353563</td>\n",
       "      <td>29.353201</td>\n",
       "      <td>0.689642</td>\n",
       "      <td>0.462647</td>\n",
       "    </tr>\n",
       "    <tr>\n",
       "      <th>min</th>\n",
       "      <td>20.000000</td>\n",
       "      <td>0.000000</td>\n",
       "      <td>1.000000</td>\n",
       "      <td>0.000000</td>\n",
       "      <td>1.00000</td>\n",
       "      <td>1.031376</td>\n",
       "      <td>0.000000</td>\n",
       "      <td>0.000000</td>\n",
       "      <td>0.000000</td>\n",
       "      <td>1.000000</td>\n",
       "      <td>0.000000</td>\n",
       "    </tr>\n",
       "    <tr>\n",
       "      <th>25%</th>\n",
       "      <td>27.000000</td>\n",
       "      <td>0.000000</td>\n",
       "      <td>2.000000</td>\n",
       "      <td>4.000000</td>\n",
       "      <td>2.00000</td>\n",
       "      <td>12.838851</td>\n",
       "      <td>25.000000</td>\n",
       "      <td>25.750000</td>\n",
       "      <td>23.000000</td>\n",
       "      <td>1.000000</td>\n",
       "      <td>0.000000</td>\n",
       "    </tr>\n",
       "    <tr>\n",
       "      <th>50%</th>\n",
       "      <td>35.000000</td>\n",
       "      <td>0.000000</td>\n",
       "      <td>2.000000</td>\n",
       "      <td>8.000000</td>\n",
       "      <td>3.00000</td>\n",
       "      <td>25.502239</td>\n",
       "      <td>52.000000</td>\n",
       "      <td>53.000000</td>\n",
       "      <td>49.000000</td>\n",
       "      <td>2.000000</td>\n",
       "      <td>0.000000</td>\n",
       "    </tr>\n",
       "    <tr>\n",
       "      <th>75%</th>\n",
       "      <td>43.000000</td>\n",
       "      <td>1.000000</td>\n",
       "      <td>3.000000</td>\n",
       "      <td>12.000000</td>\n",
       "      <td>4.00000</td>\n",
       "      <td>37.737996</td>\n",
       "      <td>75.000000</td>\n",
       "      <td>76.000000</td>\n",
       "      <td>76.000000</td>\n",
       "      <td>2.000000</td>\n",
       "      <td>1.000000</td>\n",
       "    </tr>\n",
       "    <tr>\n",
       "      <th>max</th>\n",
       "      <td>50.000000</td>\n",
       "      <td>1.000000</td>\n",
       "      <td>4.000000</td>\n",
       "      <td>15.000000</td>\n",
       "      <td>5.00000</td>\n",
       "      <td>50.992462</td>\n",
       "      <td>100.000000</td>\n",
       "      <td>100.000000</td>\n",
       "      <td>100.000000</td>\n",
       "      <td>3.000000</td>\n",
       "      <td>1.000000</td>\n",
       "    </tr>\n",
       "  </tbody>\n",
       "</table>\n",
       "</div>"
      ],
      "text/plain": [
       "               Age       Gender  EducationLevel  ExperienceYears  \\\n",
       "count  1500.000000  1500.000000     1500.000000      1500.000000   \n",
       "mean     35.148667     0.492000        2.188000         7.694000   \n",
       "std       9.252728     0.500103        0.862449         4.641414   \n",
       "min      20.000000     0.000000        1.000000         0.000000   \n",
       "25%      27.000000     0.000000        2.000000         4.000000   \n",
       "50%      35.000000     0.000000        2.000000         8.000000   \n",
       "75%      43.000000     1.000000        3.000000        12.000000   \n",
       "max      50.000000     1.000000        4.000000        15.000000   \n",
       "\n",
       "       PreviousCompanies  DistanceFromCompany  InterviewScore   SkillScore  \\\n",
       "count         1500.00000          1500.000000     1500.000000  1500.000000   \n",
       "mean             3.00200            25.505379       50.564000    51.116000   \n",
       "std              1.41067            14.567151       28.626215    29.353563   \n",
       "min              1.00000             1.031376        0.000000     0.000000   \n",
       "25%              2.00000            12.838851       25.000000    25.750000   \n",
       "50%              3.00000            25.502239       52.000000    53.000000   \n",
       "75%              4.00000            37.737996       75.000000    76.000000   \n",
       "max              5.00000            50.992462      100.000000   100.000000   \n",
       "\n",
       "       PersonalityScore  RecruitmentStrategy  HiringDecision  \n",
       "count       1500.000000          1500.000000     1500.000000  \n",
       "mean          49.387333             1.893333        0.310000  \n",
       "std           29.353201             0.689642        0.462647  \n",
       "min            0.000000             1.000000        0.000000  \n",
       "25%           23.000000             1.000000        0.000000  \n",
       "50%           49.000000             2.000000        0.000000  \n",
       "75%           76.000000             2.000000        1.000000  \n",
       "max          100.000000             3.000000        1.000000  "
      ]
     },
     "execution_count": 4,
     "metadata": {},
     "output_type": "execute_result"
    }
   ],
   "source": [
    "df.describe()"
   ]
  },
  {
   "cell_type": "code",
   "execution_count": null,
   "id": "a082bed9-9d44-45e9-977f-9e50ff799bf4",
   "metadata": {
    "id": "a082bed9-9d44-45e9-977f-9e50ff799bf4",
    "outputId": "13124676-8834-47da-8d05-ffc2242c60d7"
   },
   "outputs": [
    {
     "data": {
      "text/plain": [
       "Age                    0\n",
       "Gender                 0\n",
       "EducationLevel         0\n",
       "ExperienceYears        0\n",
       "PreviousCompanies      0\n",
       "DistanceFromCompany    0\n",
       "InterviewScore         0\n",
       "SkillScore             0\n",
       "PersonalityScore       0\n",
       "RecruitmentStrategy    0\n",
       "HiringDecision         0\n",
       "dtype: int64"
      ]
     },
     "execution_count": 5,
     "metadata": {},
     "output_type": "execute_result"
    }
   ],
   "source": [
    "df.isnull().sum()"
   ]
  },
  {
   "cell_type": "code",
   "execution_count": null,
   "id": "c2df62f2-03c7-4411-a7f2-723bccbbac8a",
   "metadata": {
    "id": "c2df62f2-03c7-4411-a7f2-723bccbbac8a",
    "outputId": "a3298329-4c8e-4925-b127-6f4686ef490f"
   },
   "outputs": [
    {
     "data": {
      "text/html": [
       "<div>\n",
       "<style scoped>\n",
       "    .dataframe tbody tr th:only-of-type {\n",
       "        vertical-align: middle;\n",
       "    }\n",
       "\n",
       "    .dataframe tbody tr th {\n",
       "        vertical-align: top;\n",
       "    }\n",
       "\n",
       "    .dataframe thead th {\n",
       "        text-align: right;\n",
       "    }\n",
       "</style>\n",
       "<table border=\"1\" class=\"dataframe\">\n",
       "  <thead>\n",
       "    <tr style=\"text-align: right;\">\n",
       "      <th></th>\n",
       "      <th>Age</th>\n",
       "      <th>Gender</th>\n",
       "      <th>EducationLevel</th>\n",
       "      <th>ExperienceYears</th>\n",
       "      <th>PreviousCompanies</th>\n",
       "      <th>DistanceFromCompany</th>\n",
       "      <th>InterviewScore</th>\n",
       "      <th>SkillScore</th>\n",
       "      <th>PersonalityScore</th>\n",
       "      <th>RecruitmentStrategy</th>\n",
       "      <th>HiringDecision</th>\n",
       "    </tr>\n",
       "  </thead>\n",
       "  <tbody>\n",
       "    <tr>\n",
       "      <th>0</th>\n",
       "      <td>26</td>\n",
       "      <td>1</td>\n",
       "      <td>2</td>\n",
       "      <td>0</td>\n",
       "      <td>3</td>\n",
       "      <td>26.783828</td>\n",
       "      <td>48</td>\n",
       "      <td>78</td>\n",
       "      <td>91</td>\n",
       "      <td>1</td>\n",
       "      <td>1</td>\n",
       "    </tr>\n",
       "    <tr>\n",
       "      <th>1</th>\n",
       "      <td>39</td>\n",
       "      <td>1</td>\n",
       "      <td>4</td>\n",
       "      <td>12</td>\n",
       "      <td>3</td>\n",
       "      <td>25.862694</td>\n",
       "      <td>35</td>\n",
       "      <td>68</td>\n",
       "      <td>80</td>\n",
       "      <td>2</td>\n",
       "      <td>1</td>\n",
       "    </tr>\n",
       "    <tr>\n",
       "      <th>2</th>\n",
       "      <td>48</td>\n",
       "      <td>0</td>\n",
       "      <td>2</td>\n",
       "      <td>3</td>\n",
       "      <td>2</td>\n",
       "      <td>9.920805</td>\n",
       "      <td>20</td>\n",
       "      <td>67</td>\n",
       "      <td>13</td>\n",
       "      <td>2</td>\n",
       "      <td>0</td>\n",
       "    </tr>\n",
       "    <tr>\n",
       "      <th>3</th>\n",
       "      <td>34</td>\n",
       "      <td>1</td>\n",
       "      <td>2</td>\n",
       "      <td>5</td>\n",
       "      <td>2</td>\n",
       "      <td>6.407751</td>\n",
       "      <td>36</td>\n",
       "      <td>27</td>\n",
       "      <td>70</td>\n",
       "      <td>3</td>\n",
       "      <td>0</td>\n",
       "    </tr>\n",
       "    <tr>\n",
       "      <th>4</th>\n",
       "      <td>30</td>\n",
       "      <td>0</td>\n",
       "      <td>1</td>\n",
       "      <td>6</td>\n",
       "      <td>1</td>\n",
       "      <td>43.105343</td>\n",
       "      <td>23</td>\n",
       "      <td>52</td>\n",
       "      <td>85</td>\n",
       "      <td>2</td>\n",
       "      <td>0</td>\n",
       "    </tr>\n",
       "  </tbody>\n",
       "</table>\n",
       "</div>"
      ],
      "text/plain": [
       "   Age  Gender  EducationLevel  ExperienceYears  PreviousCompanies  \\\n",
       "0   26       1               2                0                  3   \n",
       "1   39       1               4               12                  3   \n",
       "2   48       0               2                3                  2   \n",
       "3   34       1               2                5                  2   \n",
       "4   30       0               1                6                  1   \n",
       "\n",
       "   DistanceFromCompany  InterviewScore  SkillScore  PersonalityScore  \\\n",
       "0            26.783828              48          78                91   \n",
       "1            25.862694              35          68                80   \n",
       "2             9.920805              20          67                13   \n",
       "3             6.407751              36          27                70   \n",
       "4            43.105343              23          52                85   \n",
       "\n",
       "   RecruitmentStrategy  HiringDecision  \n",
       "0                    1               1  \n",
       "1                    2               1  \n",
       "2                    2               0  \n",
       "3                    3               0  \n",
       "4                    2               0  "
      ]
     },
     "execution_count": 6,
     "metadata": {},
     "output_type": "execute_result"
    }
   ],
   "source": [
    "X_=df.drop(\"HiringDecision\",axis=1) 0.8966666666666666\n",
    "Y_=df[\"HiringDecision\"]\n",
    "df.head()"
   ]
  },
  {
   "cell_type": "code",
   "execution_count": null,
   "id": "6c309606-85a1-4b02-be2c-0929cead9e22",
   "metadata": {
    "id": "6c309606-85a1-4b02-be2c-0929cead9e22",
    "outputId": "094ff508-9d98-42cc-ea36-eca9125ac006"
   },
   "outputs": [
    {
     "data": {
      "text/html": [
       "<div>\n",
       "<style scoped>\n",
       "    .dataframe tbody tr th:only-of-type {\n",
       "        vertical-align: middle;\n",
       "    }\n",
       "\n",
       "    .dataframe tbody tr th {\n",
       "        vertical-align: top;\n",
       "    }\n",
       "\n",
       "    .dataframe thead th {\n",
       "        text-align: right;\n",
       "    }\n",
       "</style>\n",
       "<table border=\"1\" class=\"dataframe\">\n",
       "  <thead>\n",
       "    <tr style=\"text-align: right;\">\n",
       "      <th></th>\n",
       "      <th>Age</th>\n",
       "      <th>Gender</th>\n",
       "      <th>EducationLevel</th>\n",
       "      <th>ExperienceYears</th>\n",
       "      <th>PreviousCompanies</th>\n",
       "      <th>DistanceFromCompany</th>\n",
       "      <th>InterviewScore</th>\n",
       "      <th>SkillScore</th>\n",
       "      <th>PersonalityScore</th>\n",
       "      <th>RecruitmentStrategy</th>\n",
       "    </tr>\n",
       "  </thead>\n",
       "  <tbody>\n",
       "    <tr>\n",
       "      <th>0</th>\n",
       "      <td>26</td>\n",
       "      <td>1</td>\n",
       "      <td>2</td>\n",
       "      <td>0</td>\n",
       "      <td>3</td>\n",
       "      <td>26.783828</td>\n",
       "      <td>48</td>\n",
       "      <td>78</td>\n",
       "      <td>91</td>\n",
       "      <td>1</td>\n",
       "    </tr>\n",
       "    <tr>\n",
       "      <th>1</th>\n",
       "      <td>39</td>\n",
       "      <td>1</td>\n",
       "      <td>4</td>\n",
       "      <td>12</td>\n",
       "      <td>3</td>\n",
       "      <td>25.862694</td>\n",
       "      <td>35</td>\n",
       "      <td>68</td>\n",
       "      <td>80</td>\n",
       "      <td>2</td>\n",
       "    </tr>\n",
       "    <tr>\n",
       "      <th>2</th>\n",
       "      <td>48</td>\n",
       "      <td>0</td>\n",
       "      <td>2</td>\n",
       "      <td>3</td>\n",
       "      <td>2</td>\n",
       "      <td>9.920805</td>\n",
       "      <td>20</td>\n",
       "      <td>67</td>\n",
       "      <td>13</td>\n",
       "      <td>2</td>\n",
       "    </tr>\n",
       "    <tr>\n",
       "      <th>3</th>\n",
       "      <td>34</td>\n",
       "      <td>1</td>\n",
       "      <td>2</td>\n",
       "      <td>5</td>\n",
       "      <td>2</td>\n",
       "      <td>6.407751</td>\n",
       "      <td>36</td>\n",
       "      <td>27</td>\n",
       "      <td>70</td>\n",
       "      <td>3</td>\n",
       "    </tr>\n",
       "    <tr>\n",
       "      <th>4</th>\n",
       "      <td>30</td>\n",
       "      <td>0</td>\n",
       "      <td>1</td>\n",
       "      <td>6</td>\n",
       "      <td>1</td>\n",
       "      <td>43.105343</td>\n",
       "      <td>23</td>\n",
       "      <td>52</td>\n",
       "      <td>85</td>\n",
       "      <td>2</td>\n",
       "    </tr>\n",
       "  </tbody>\n",
       "</table>\n",
       "</div>"
      ],
      "text/plain": [
       "   Age  Gender  EducationLevel  ExperienceYears  PreviousCompanies  \\\n",
       "0   26       1               2                0                  3   \n",
       "1   39       1               4               12                  3   \n",
       "2   48       0               2                3                  2   \n",
       "3   34       1               2                5                  2   \n",
       "4   30       0               1                6                  1   \n",
       "\n",
       "   DistanceFromCompany  InterviewScore  SkillScore  PersonalityScore  \\\n",
       "0            26.783828              48          78                91   \n",
       "1            25.862694              35          68                80   \n",
       "2             9.920805              20          67                13   \n",
       "3             6.407751              36          27                70   \n",
       "4            43.105343              23          52                85   \n",
       "\n",
       "   RecruitmentStrategy  \n",
       "0                    1  \n",
       "1                    2  \n",
       "2                    2  \n",
       "3                    3  \n",
       "4                    2  "
      ]
     },
     "execution_count": 7,
     "metadata": {},
     "output_type": "execute_result"
    }
   ],
   "source": [
    "X_.head()"
   ]
  },
  {
   "cell_type": "code",
   "execution_count": null,
   "id": "97f0963d-aaf6-48ef-a9dc-b542edc1290d",
   "metadata": {
    "id": "97f0963d-aaf6-48ef-a9dc-b542edc1290d",
    "outputId": "9a87b30a-3495-4b99-adf6-fb282963b723"
   },
   "outputs": [
    {
     "data": {
      "text/plain": [
       "0    1\n",
       "1    1\n",
       "2    0\n",
       "3    0\n",
       "4    0\n",
       "Name: HiringDecision, dtype: int64"
      ]
     },
     "execution_count": 8,
     "metadata": {},
     "output_type": "execute_result"
    }
   ],
   "source": [
    "Y_.head()"
   ]
  },
  {
   "cell_type": "code",
   "execution_count": null,
   "id": "add92217-02eb-4fa3-a9e0-f35cc2fedbd1",
   "metadata": {
    "id": "add92217-02eb-4fa3-a9e0-f35cc2fedbd1",
    "outputId": "04f1c7be-f79a-4809-9a7b-3ded446a8021"
   },
   "outputs": [
    {
     "data": {
      "image/png": "[encoded data removed]",
      "text/plain": [
       "<Figure size 1200x1000 with 2 Axes>"
      ]
     },
     "metadata": {},
     "output_type": "display_data"
    }
   ],
   "source": [
    "import seaborn as sns\n",
    "plt.figure(figsize=(12,10))\n",
    "cor=X_.corr()\n",
    "sns.heatmap(cor,annot=True,cmap=plt.cm.CMRmap_r)\n",
    "plt.show()"
   ]
  },
  {
   "cell_type": "code",
   "execution_count": null,
   "id": "d03b8fbf-18ab-4a0f-bf4b-7de2ba44e8be",
   "metadata": {
    "id": "d03b8fbf-18ab-4a0f-bf4b-7de2ba44e8be",
    "outputId": "e6b72a0c-c447-4cb5-aa2b-fe0ea5589f14"
   },
   "outputs": [
    {
     "data": {
      "text/plain": [
       "0"
      ]
     },
     "execution_count": 11,
     "metadata": {},
     "output_type": "execute_result"
    }
   ],
   "source": [
    "def correlation(dataset, threshold):\n",
    "    col_corr = set()  # Set of all the names of correlated columns\n",
    "    corr_matrix = dataset.corr()\n",
    "    for i in range(len(corr_matrix.columns)):\n",
    "        for j in range(i):\n",
    "            if abs(corr_matrix.iloc[i, j]) > threshold: # we are interested in absolute coeff value\n",
    "                colname = corr_matrix.columns[i]  # getting the name of column\n",
    "                col_corr.add(colname)\n",
    "    return col_corr\n",
    "corr_feature=correlation(X_,0.7)\n",
    "len(set(corr_feature))"
   ]
  },
  {
   "cell_type": "code",
   "execution_count": null,
   "id": "9a5d746d-17c2-4c3b-b643-ec79c6eac3ce",
   "metadata": {
    "id": "9a5d746d-17c2-4c3b-b643-ec79c6eac3ce"
   },
   "outputs": [],
   "source": [
    "def standardize_column(column):\n",
    "    mean = np.mean(column)\n",
    "    std_dev = np.std(column)\n",
    "    return (column - mean) / std_dev"
   ]
  },
  {
   "cell_type": "code",
   "execution_count": null,
   "id": "ca9e8ab9-3000-4649-b2db-6ce3ec8a0c9a",
   "metadata": {
    "id": "ca9e8ab9-3000-4649-b2db-6ce3ec8a0c9a",
    "outputId": "9d5c7248-dc78-4671-d85a-385aff2d0732"
   },
   "outputs": [
    {
     "name": "stdout",
     "output_type": "stream",
     "text": [
      "Original Data:\n",
      "      Age  Gender  EducationLevel  ExperienceYears  PreviousCompanies  \\\n",
      "0      26       1               2                0                  3   \n",
      "1      39       1               4               12                  3   \n",
      "2      48       0               2                3                  2   \n",
      "3      34       1               2                5                  2   \n",
      "4      30       0               1                6                  1   \n",
      "...   ...     ...             ...              ...                ...   \n",
      "1495   48       0               2                3                  4   \n",
      "1496   27       1               2               10                  3   \n",
      "1497   24       1               1                1                  2   \n",
      "1498   48       0               2                4                  4   \n",
      "1499   34       1               2               11                  5   \n",
      "\n",
      "      DistanceFromCompany  InterviewScore  SkillScore  PersonalityScore  \\\n",
      "0               26.783828              48          78                91   \n",
      "1               25.862694              35          68                80   \n",
      "2                9.920805              20          67                13   \n",
      "3                6.407751              36          27                70   \n",
      "4               43.105343              23          52                85   \n",
      "...                   ...             ...         ...               ...   \n",
      "1495             9.183783              66           3                80   \n",
      "1496            14.847731              43          97                 7   \n",
      "1497             4.289911              31          91                58   \n",
      "1498            36.299263               9          37                44   \n",
      "1499            12.910472              63          40                26   \n",
      "\n",
      "      RecruitmentStrategy  HiringDecision  \n",
      "0                       1               1  \n",
      "1                       2               1  \n",
      "2                       2               0  \n",
      "3                       3               0  \n",
      "4                       2               0  \n",
      "...                   ...             ...  \n",
      "1495                    3               1  \n",
      "1496                    2               0  \n",
      "1497                    1               1  \n",
      "1498                    2               1  \n",
      "1499                    2               1  \n",
      "\n",
      "[1500 rows x 11 columns]\n",
      "\n",
      "Standardized Data (Z-score normalization):\n",
      "           Age    Gender  EducationLevel  ExperienceYears  PreviousCompanies  \\\n",
      "0    -0.989083  1.016130       -0.218057        -1.658237          -0.001418   \n",
      "1     0.416376  1.016130        2.101694         0.928044          -0.001418   \n",
      "2     1.389387 -0.984126       -0.218057        -1.011667          -0.710538   \n",
      "3    -0.124185  1.016130       -0.218057        -0.580620          -0.710538   \n",
      "4    -0.556634 -0.984126       -1.377932        -0.365097          -1.419657   \n",
      "...        ...       ...             ...              ...                ...   \n",
      "1495  1.389387 -0.984126       -0.218057        -1.011667           0.707701   \n",
      "1496 -0.880971  1.016130       -0.218057         0.496997          -0.001418   \n",
      "1497 -1.205308  1.016130       -1.377932        -1.442714          -0.710538   \n",
      "1498  1.389387 -0.984126       -0.218057        -0.796144           0.707701   \n",
      "1499 -0.124185  1.016130       -0.218057         0.712520           1.416821   \n",
      "\n",
      "      DistanceFromCompany  InterviewScore  SkillScore  PersonalityScore  \\\n",
      "0                0.087792       -0.089598    0.916174          1.418126   \n",
      "1                0.024537       -0.543879    0.575386          1.043255   \n",
      "2               -1.070200       -1.068049    0.541307         -1.240051   \n",
      "3               -1.311444       -0.508934   -0.821844          0.702463   \n",
      "4                1.208598       -0.963215    0.030126          1.213651   \n",
      "...                   ...             ...         ...               ...   \n",
      "1495            -1.120812        0.539406   -1.639734          1.043255   \n",
      "1496            -0.731866       -0.264321    1.563671         -1.444526   \n",
      "1497            -1.456877       -0.683657    1.359198          0.293513   \n",
      "1498             0.741221       -1.452440   -0.481056         -0.183596   \n",
      "1499            -0.864899        0.434572   -0.378820         -0.797022   \n",
      "\n",
      "      RecruitmentStrategy  HiringDecision  \n",
      "0               -1.295790        1.491914  \n",
      "1                0.154721        1.491914  \n",
      "2                0.154721       -0.670280  \n",
      "3                1.605233       -0.670280  \n",
      "4                0.154721       -0.670280  \n",
      "...                   ...             ...  \n",
      "1495             1.605233        1.491914  \n",
      "1496             0.154721       -0.670280  \n",
      "1497            -1.295790        1.491914  \n",
      "1498             0.154721        1.491914  \n",
      "1499             0.154721        1.491914  \n",
      "\n",
      "[1500 rows x 11 columns]\n"
     ]
    }
   ],
   "source": [
    "df_standardized = df.copy()  # Make a copy of the original DataFrame\n",
    "for column in df.columns:\n",
    "    df_standardized[column] = standardize_column(df[column])\n",
    "print(\"Original Data:\")\n",
    "print(df)\n",
    "print(\"\\nStandardized Data (Z-score normalization):\")\n",
    "print(df_standardized)"
   ]
  },
  {
   "cell_type": "code",
   "execution_count": null,
   "id": "1cf94567-d6f6-4b37-a2c5-fe76b7d492a8",
   "metadata": {
    "id": "1cf94567-d6f6-4b37-a2c5-fe76b7d492a8",
    "outputId": "44b9c478-6350-4667-df5d-7e11322aa47d"
   },
   "outputs": [
    {
     "name": "stdout",
     "output_type": "stream",
     "text": [
      "\n",
      "Min-Max Normalized Data (0-1 range):\n",
      "           Age  Gender  EducationLevel  ExperienceYears  PreviousCompanies  \\\n",
      "0     0.200000     1.0        0.333333         0.000000               0.50   \n",
      "1     0.633333     1.0        1.000000         0.800000               0.50   \n",
      "2     0.933333     0.0        0.333333         0.200000               0.25   \n",
      "3     0.466667     1.0        0.333333         0.333333               0.25   \n",
      "4     0.333333     0.0        0.000000         0.400000               0.00   \n",
      "...        ...     ...             ...              ...                ...   \n",
      "1495  0.933333     0.0        0.333333         0.200000               0.75   \n",
      "1496  0.233333     1.0        0.333333         0.666667               0.50   \n",
      "1497  0.133333     1.0        0.000000         0.066667               0.25   \n",
      "1498  0.933333     0.0        0.333333         0.266667               0.75   \n",
      "1499  0.466667     1.0        0.333333         0.733333               1.00   \n",
      "\n",
      "      DistanceFromCompany  InterviewScore  SkillScore  PersonalityScore  \\\n",
      "0                0.515450            0.48        0.78              0.91   \n",
      "1                0.497013            0.35        0.68              0.80   \n",
      "2                0.177927            0.20        0.67              0.13   \n",
      "3                0.107611            0.36        0.27              0.70   \n",
      "4                0.842135            0.23        0.52              0.85   \n",
      "...                   ...             ...         ...               ...   \n",
      "1495             0.163175            0.66        0.03              0.80   \n",
      "1496             0.276542            0.43        0.97              0.07   \n",
      "1497             0.065221            0.31        0.91              0.58   \n",
      "1498             0.705907            0.09        0.37              0.44   \n",
      "1499             0.237767            0.63        0.40              0.26   \n",
      "\n",
      "      RecruitmentStrategy  HiringDecision  \n",
      "0                     0.0             1.0  \n",
      "1                     0.5             1.0  \n",
      "2                     0.5             0.0  \n",
      "3                     1.0             0.0  \n",
      "4                     0.5             0.0  \n",
      "...                   ...             ...  \n",
      "1495                  1.0             1.0  \n",
      "1496                  0.5             0.0  \n",
      "1497                  0.0             1.0  \n",
      "1498                  0.5             1.0  \n",
      "1499                  0.5             1.0  \n",
      "\n",
      "[1500 rows x 11 columns]\n"
     ]
    }
   ],
   "source": [
    "def min_max_normalize_column(column):\n",
    "    min_val = np.min(column)\n",
    "    max_val = np.max(column)\n",
    "    return (column - min_val) / (max_val - min_val)\n",
    "\n",
    "# Apply Min-Max normalization to each feature column\n",
    "df_min_max = df.copy()  # Make a copy of the original DataFrame\n",
    "for column in df.columns:\n",
    "    df_min_max[column] = min_max_normalize_column(df[column])\n",
    "\n",
    "print(\"\\nMin-Max Normalized Data (0-1 range):\")\n",
    "print(df_min_max)"
   ]
  },
  {
   "cell_type": "code",
   "execution_count": null,
   "id": "3f5a2ef2-904a-4843-b765-10df1686cc40",
   "metadata": {
    "id": "3f5a2ef2-904a-4843-b765-10df1686cc40",
    "outputId": "88d8df21-717a-444e-896b-aa54734f4a38"
   },
   "outputs": [
    {
     "data": {
      "text/html": [
       "<div>\n",
       "<style scoped>\n",
       "    .dataframe tbody tr th:only-of-type {\n",
       "        vertical-align: middle;\n",
       "    }\n",
       "\n",
       "    .dataframe tbody tr th {\n",
       "        vertical-align: top;\n",
       "    }\n",
       "\n",
       "    .dataframe thead th {\n",
       "        text-align: right;\n",
       "    }\n",
       "</style>\n",
       "<table border=\"1\" class=\"dataframe\">\n",
       "  <thead>\n",
       "    <tr style=\"text-align: right;\">\n",
       "      <th></th>\n",
       "      <th>Age</th>\n",
       "      <th>Gender</th>\n",
       "      <th>EducationLevel</th>\n",
       "      <th>ExperienceYears</th>\n",
       "      <th>PreviousCompanies</th>\n",
       "      <th>DistanceFromCompany</th>\n",
       "      <th>InterviewScore</th>\n",
       "      <th>SkillScore</th>\n",
       "      <th>PersonalityScore</th>\n",
       "      <th>RecruitmentStrategy</th>\n",
       "      <th>HiringDecision</th>\n",
       "    </tr>\n",
       "  </thead>\n",
       "  <tbody>\n",
       "    <tr>\n",
       "      <th>0</th>\n",
       "      <td>0.200000</td>\n",
       "      <td>1.0</td>\n",
       "      <td>0.333333</td>\n",
       "      <td>0.000000</td>\n",
       "      <td>0.50</td>\n",
       "      <td>0.515450</td>\n",
       "      <td>0.48</td>\n",
       "      <td>0.78</td>\n",
       "      <td>0.91</td>\n",
       "      <td>0.0</td>\n",
       "      <td>1.0</td>\n",
       "    </tr>\n",
       "    <tr>\n",
       "      <th>1</th>\n",
       "      <td>0.633333</td>\n",
       "      <td>1.0</td>\n",
       "      <td>1.000000</td>\n",
       "      <td>0.800000</td>\n",
       "      <td>0.50</td>\n",
       "      <td>0.497013</td>\n",
       "      <td>0.35</td>\n",
       "      <td>0.68</td>\n",
       "      <td>0.80</td>\n",
       "      <td>0.5</td>\n",
       "      <td>1.0</td>\n",
       "    </tr>\n",
       "    <tr>\n",
       "      <th>2</th>\n",
       "      <td>0.933333</td>\n",
       "      <td>0.0</td>\n",
       "      <td>0.333333</td>\n",
       "      <td>0.200000</td>\n",
       "      <td>0.25</td>\n",
       "      <td>0.177927</td>\n",
       "      <td>0.20</td>\n",
       "      <td>0.67</td>\n",
       "      <td>0.13</td>\n",
       "      <td>0.5</td>\n",
       "      <td>0.0</td>\n",
       "    </tr>\n",
       "    <tr>\n",
       "      <th>3</th>\n",
       "      <td>0.466667</td>\n",
       "      <td>1.0</td>\n",
       "      <td>0.333333</td>\n",
       "      <td>0.333333</td>\n",
       "      <td>0.25</td>\n",
       "      <td>0.107611</td>\n",
       "      <td>0.36</td>\n",
       "      <td>0.27</td>\n",
       "      <td>0.70</td>\n",
       "      <td>1.0</td>\n",
       "      <td>0.0</td>\n",
       "    </tr>\n",
       "    <tr>\n",
       "      <th>4</th>\n",
       "      <td>0.333333</td>\n",
       "      <td>0.0</td>\n",
       "      <td>0.000000</td>\n",
       "      <td>0.400000</td>\n",
       "      <td>0.00</td>\n",
       "      <td>0.842135</td>\n",
       "      <td>0.23</td>\n",
       "      <td>0.52</td>\n",
       "      <td>0.85</td>\n",
       "      <td>0.5</td>\n",
       "      <td>0.0</td>\n",
       "    </tr>\n",
       "  </tbody>\n",
       "</table>\n",
       "</div>"
      ],
      "text/plain": [
       "        Age  Gender  EducationLevel  ExperienceYears  PreviousCompanies  \\\n",
       "0  0.200000     1.0        0.333333         0.000000               0.50   \n",
       "1  0.633333     1.0        1.000000         0.800000               0.50   \n",
       "2  0.933333     0.0        0.333333         0.200000               0.25   \n",
       "3  0.466667     1.0        0.333333         0.333333               0.25   \n",
       "4  0.333333     0.0        0.000000         0.400000               0.00   \n",
       "\n",
       "   DistanceFromCompany  InterviewScore  SkillScore  PersonalityScore  \\\n",
       "0             0.515450            0.48        0.78              0.91   \n",
       "1             0.497013            0.35        0.68              0.80   \n",
       "2             0.177927            0.20        0.67              0.13   \n",
       "3             0.107611            0.36        0.27              0.70   \n",
       "4             0.842135            0.23        0.52              0.85   \n",
       "\n",
       "   RecruitmentStrategy  HiringDecision  \n",
       "0                  0.0             1.0  \n",
       "1                  0.5             1.0  \n",
       "2                  0.5             0.0  \n",
       "3                  1.0             0.0  \n",
       "4                  0.5             0.0  "
      ]
     },
     "execution_count": 16,
     "metadata": {},
     "output_type": "execute_result"
    }
   ],
   "source": [
    "X = df_min_max.drop(\"HiringDecision\",axis=1)\n",
    "Y = df_min_max[\"HiringDecision\"]\n",
    "df_min_max.head()"
   ]
  },
  {
   "cell_type": "markdown",
   "id": "a2b151c5-e038-4a85-ba64-c92c0eb71d51",
   "metadata": {
    "id": "a2b151c5-e038-4a85-ba64-c92c0eb71d51"
   },
   "source": [
    "## Train Test Split"
   ]
  },
  {
   "cell_type": "code",
   "execution_count": null,
   "id": "699fa677-1576-440a-aa72-b00d3f940715",
   "metadata": {
    "id": "699fa677-1576-440a-aa72-b00d3f940715"
   },
   "outputs": [],
   "source": [
    "from sklearn.model_selection import train_test_split\n",
    "X_train,X_test,Y_train,Y_test=train_test_split(X,Y,test_size=0.20)"
   ]
  },
  {
   "cell_type": "code",
   "execution_count": null,
   "id": "42012138-4899-445f-be65-1cc643a3b90e",
   "metadata": {
    "id": "42012138-4899-445f-be65-1cc643a3b90e",
    "outputId": "b2408ca0-7f8c-4362-874a-cb4606fd7c86"
   },
   "outputs": [
    {
     "name": "stdout",
     "output_type": "stream",
     "text": [
      "(1200, 10)\n",
      "(1200,)\n"
     ]
    }
   ],
   "source": [
    "print(X_train.shape)\n",
    "print(Y_train.shape)"
   ]
  },
  {
   "cell_type": "markdown",
   "id": "46d8acc4-22cb-4d35-a47b-15e5fffa32ee",
   "metadata": {
    "id": "46d8acc4-22cb-4d35-a47b-15e5fffa32ee"
   },
   "source": [
    "## Logistric Regression"
   ]
  },
  {
   "cell_type": "code",
   "execution_count": null,
   "id": "dcd5a55c-96a1-4b89-8913-b0d3efd0af53",
   "metadata": {
    "id": "dcd5a55c-96a1-4b89-8913-b0d3efd0af53",
    "outputId": "d112f194-eb6d-4a84-84ad-bd897693ed59"
   },
   "outputs": [
    {
     "name": "stdout",
     "output_type": "stream",
     "text": [
      "Predicted classes: [1 1 0 ... 0 0 1]\n"
     ]
    }
   ],
   "source": [
    "import numpy as np\n",
    "\n",
    "# Sigmoid function (maps values between 0 and 1)\n",
    "def sigmoid(z):\n",
    "    return 1 / (1 + np.exp(-z))\n",
    "\n",
    "# Logistic Regression model from scratch\n",
    "class LogisticRegressionScratch:\n",
    "    def __init__(self, learning_rate=0.01, iterations=10000):\n",
    "        self.learning_rate = learning_rate\n",
    "        self.iterations = iterations\n",
    "        self.weights = None\n",
    "        self.bias = None\n",
    "\n",
    "    def fit(self, X, y):\n",
    "        # Number of samples and features\n",
    "        n_samples, n_features = X.shape\n",
    "\n",
    "        # Initialize weights and bias\n",
    "        self.weights = np.zeros(n_features)\n",
    "        self.bias = 0\n",
    "\n",
    "        # Gradient descent\n",
    "        for _ in range(self.iterations):\n",
    "            # Linear model (z = wX + b)\n",
    "            linear_model = np.dot(X, self.weights) + self.bias\n",
    "            # Apply sigmoid function to get predictions\n",
    "            y_predicted = sigmoid(linear_model)\n",
    "\n",
    "            # Compute gradients for weights and bias\n",
    "            dw = (1 / n_samples) * np.dot(X.T, (y_predicted - y))\n",
    "            db = (1 / n_samples) * np.sum(y_predicted - y)\n",
    "\n",
    "            # Update weights and bias using gradient descent\n",
    "            self.weights -= self.learning_rate * dw\n",
    "            self.bias -= self.learning_rate * db\n",
    "\n",
    "    def predict(self, X):\n",
    "        # Linear model (z = wX + b)\n",
    "        linear_model = np.dot(X, self.weights) + self.bias\n",
    "        # Apply sigmoid function\n",
    "        y_predicted = sigmoid(linear_model)\n",
    "        # Convert probabilities to binary classes (0 or 1)\n",
    "        y_predicted_class = [1 if i > 0.5 else 0 for i in y_predicted]\n",
    "        return np.array(y_predicted_class)\n",
    "\n",
    "# Example usage\n",
    "if __name__ == \"__main__\":\n",
    "    # Create a dataset (replace with your actual data)\n",
    "    x_train = X_train\n",
    "    y_train = Y_train\n",
    "\n",
    "    # Initialize the logistic regression model\n",
    "    model = LogisticRegressionScratch(learning_rate=0.01, iterations=10000)\n",
    "    # Train the model\n",
    "    model.fit(x_train, y_train)\n",
    "    # Make predictions\n",
    "    predictions = model.predict(x_train)\n",
    "\n",
    "    print(\"Predicted classes:\", predictions)\n"
   ]
  },
  {
   "cell_type": "markdown",
   "id": "7d3548c6-da48-4495-b3ef-fec53548dad8",
   "metadata": {
    "id": "7d3548c6-da48-4495-b3ef-fec53548dad8"
   },
   "source": [
    "## Decision trees"
   ]
  },
  {
   "cell_type": "code",
   "execution_count": null,
   "id": "7d59e35b-17c2-46ea-a1a3-07433ed46124",
   "metadata": {
    "id": "7d59e35b-17c2-46ea-a1a3-07433ed46124"
   },
   "outputs": [],
   "source": [
    "class Node():\n",
    "    def __init__(self, feature_index=None, threshold=None, left=None, right=None, info_gain=None, value=None):\n",
    "        ''' constructor '''\n",
    "\n",
    "        # for decision node\n",
    "        self.feature_index = feature_index\n",
    "        self.threshold = threshold\n",
    "        self.left = left\n",
    "        self.right = right\n",
    "        self.info_gain = info_gain\n",
    "\n",
    "        # for leaf node\n",
    "        self.value = value"
   ]
  },
  {
   "cell_type": "code",
   "execution_count": null,
   "id": "6b7314de-4885-4128-a636-0efa41ac6413",
   "metadata": {
    "id": "6b7314de-4885-4128-a636-0efa41ac6413"
   },
   "outputs": [],
   "source": [
    "class DecisionTreeClassifier():\n",
    "    def __init__(self, min_samples_split=2, max_depth=4):\n",
    "        ''' constructor '''\n",
    "\n",
    "        # initialize the root of the tree\n",
    "        self.root = None\n",
    "\n",
    "        # stopping conditions\n",
    "        self.min_samples_split = min_samples_split\n",
    "        self.max_depth = max_depth\n",
    "\n",
    "    def build_tree(self, dataset, curr_depth=0):\n",
    "        ''' recursive function to build the tree '''\n",
    "\n",
    "        X, Y = dataset[:,:-1], dataset[:,-1]\n",
    "        num_samples, num_features = np.shape(X)\n",
    "\n",
    "        # split until stopping conditions are met\n",
    "        if num_samples>=self.min_samples_split and curr_depth<=self.max_depth:\n",
    "            # find the best split\n",
    "            best_split = self.get_best_split(dataset, num_samples, num_features)\n",
    "            # check if information gain is positive\n",
    "            if best_split[\"info_gain\"]>0:\n",
    "                # recur left\n",
    "                left_subtree = self.build_tree(best_split[\"dataset_left\"], curr_depth+1)\n",
    "                # recur right\n",
    "                right_subtree = self.build_tree(best_split[\"dataset_right\"], curr_depth+1)\n",
    "                # return decision node\n",
    "                return Node(best_split[\"feature_index\"], best_split[\"threshold\"],\n",
    "                            left_subtree, right_subtree, best_split[\"info_gain\"])\n",
    "\n",
    "        # compute leaf node\n",
    "        leaf_value = self.calculate_leaf_value(Y)\n",
    "        # return leaf node\n",
    "        return Node(value=leaf_value)\n",
    "    def get_best_split(self, dataset, num_samples, num_features):\n",
    "        ''' function to find the best split '''\n",
    "\n",
    "        # dictionary to store the best split\n",
    "        best_split = {}\n",
    "        max_info_gain = -float(\"inf\")\n",
    "\n",
    "        # loop over all the features\n",
    "        for feature_index in range(num_features):\n",
    "            feature_values = dataset[:, feature_index]\n",
    "            possible_thresholds = np.unique(feature_values)\n",
    "            # loop over all the feature values present in the data\n",
    "            for threshold in possible_thresholds:\n",
    "                # get current split\n",
    "                dataset_left, dataset_right = self.split(dataset, feature_index, threshold)\n",
    "                # check if childs are not null\n",
    "                if len(dataset_left)>0 and len(dataset_right)>0:\n",
    "                    y, left_y, right_y = dataset[:, -1], dataset_left[:, -1], dataset_right[:, -1]\n",
    "                    # compute information gain\n",
    "                    curr_info_gain = self.information_gain(y, left_y, right_y, \"gini\")\n",
    "                    # update the best split if needed\n",
    "                    if curr_info_gain>max_info_gain:\n",
    "                        best_split[\"feature_index\"] = feature_index\n",
    "                        best_split[\"threshold\"] = threshold\n",
    "                        best_split[\"dataset_left\"] = dataset_left\n",
    "                        best_split[\"dataset_right\"] = dataset_right\n",
    "                        best_split[\"info_gain\"] = curr_info_gain\n",
    "                        max_info_gain = curr_info_gain\n",
    "\n",
    "        # return best split\n",
    "        return best_split\n",
    "\n",
    "    def split(self, dataset, feature_index, threshold):\n",
    "        ''' function to split the data '''\n",
    "\n",
    "        dataset_left = np.array([row for row in dataset if row[feature_index]<=threshold])\n",
    "        dataset_right = np.array([row for row in dataset if row[feature_index]>threshold])\n",
    "        return dataset_left, dataset_right\n",
    "\n",
    "    def information_gain(self, parent, l_child, r_child, mode=\"entropy\"):\n",
    "        ''' function to compute information gain '''\n",
    "\n",
    "        weight_l = len(l_child) / len(parent)\n",
    "        weight_r = len(r_child) / len(parent)\n",
    "        if mode==\"gini\":\n",
    "                       gain = self.gini_index(parent) - (weight_l*self.gini_index(l_child) + weight_r*self.gini_index(r_child))\n",
    "        else:\n",
    "            gain = self.entropy(parent) - (weight_l*self.entropy(l_child) + weight_r*self.entropy(r_child))\n",
    "        return gain\n",
    "\n",
    "    def entropy(self, y):\n",
    "        ''' function to compute entropy '''\n",
    "\n",
    "        class_labels = np.unique(y)\n",
    "        entropy = 0\n",
    "        for cls in class_labels:\n",
    "            p_cls = len(y[y == cls]) / len(y)\n",
    "            entropy += -p_cls * np.log2(p_cls)\n",
    "        return entropy\n",
    "\n",
    "    def gini_index(self, y):\n",
    "        ''' function to compute gini index '''\n",
    "\n",
    "        class_labels = np.unique(y)\n",
    "        gini = 0\n",
    "        for cls in class_labels:\n",
    "            p_cls = len(y[y == cls]) / len(y)\n",
    "            gini += p_cls**2\n",
    "        return 1 - gini\n",
    "\n",
    "    def calculate_leaf_value(self, Y):\n",
    "        ''' function to compute leaf node '''\n",
    "\n",
    "        Y = list(Y)\n",
    "        return max(Y, key=Y.count)\n",
    "\n",
    "    def print_tree(self, tree=None, indent=\" \"):\n",
    "        ''' function to print the tree '''\n",
    "\n",
    "        if not tree:\n",
    "            tree = self.root\n",
    "\n",
    "        if tree.value is not None:\n",
    "            print(tree.value)\n",
    "\n",
    "        else:\n",
    "            print(\"X_\"+str(tree.feature_index), \"<=\", tree.threshold, \"?\", tree.info_gain)\n",
    "            print(\"%sleft:\" % (indent), end=\"\")\n",
    "            self.print_tree(tree.left, indent + indent)\n",
    "            print(\"%sright:\" % (indent), end=\"\")\n",
    "            self.print_tree(tree.right, indent + indent)\n",
    "    def fit(self, X, Y):\n",
    "        ''' function to train the tree '''\n",
    "\n",
    "        dataset = np.concatenate((X, Y), axis=1)\n",
    "        self.root = self.build_tree(dataset)\n",
    "\n",
    "    def predict(self, X):\n",
    "        ''' function to predict new dataset '''\n",
    "\n",
    "        preditions = [self.make_prediction(x, self.root) for x in X]\n",
    "        return preditions\n",
    "\n",
    "    def make_prediction(self, x, tree):\n",
    "        ''' function to predict a single data point '''\n",
    "\n",
    "        if tree.value!=None: return tree.value\n",
    "        feature_val = x[tree.feature_index]\n",
    "        if feature_val<=tree.threshold:\n",
    "            return self.make_prediction(x, tree.left)\n",
    "        else:\n",
    "            return self.make_prediction(x, tree.right)"
   ]
  },
  {
   "cell_type": "markdown",
   "id": "3280c68f-557c-4a7d-8126-472b9e15daf1",
   "metadata": {
    "id": "3280c68f-557c-4a7d-8126-472b9e15daf1"
   },
   "source": [
    "## Training on Both models"
   ]
  },
  {
   "cell_type": "code",
   "execution_count": null,
   "id": "1d01f41a-a5da-41cd-8293-a728015e9764",
   "metadata": {
    "id": "1d01f41a-a5da-41cd-8293-a728015e9764",
    "outputId": "d49eaab1-0c73-4df3-ebb2-87806c72d81e"
   },
   "outputs": [
    {
     "name": "stdout",
     "output_type": "stream",
     "text": [
      "300\n"
     ]
    }
   ],
   "source": [
    "predictions = model.predict(X_test)\n",
    "print(len(predictions))"
   ]
  },
  {
   "cell_type": "code",
   "execution_count": null,
   "id": "55ac46cc-1dee-4b1a-bc81-f1d2d3ca5a78",
   "metadata": {
    "id": "55ac46cc-1dee-4b1a-bc81-f1d2d3ca5a78",
    "outputId": "3c214f58-ab44-4e85-dd19-2775ac46dec6"
   },
   "outputs": [
    {
     "name": "stdout",
     "output_type": "stream",
     "text": [
      "Accuracy:  0.8666666666666667\n",
      "Confusion Matrix:\n",
      " [[204  11]\n",
      " [ 29  56]]\n",
      "Classification Report:\n",
      "               precision    recall  f1-score   support\n",
      "\n",
      "         0.0       0.88      0.95      0.91       215\n",
      "         1.0       0.84      0.66      0.74        85\n",
      "\n",
      "    accuracy                           0.87       300\n",
      "   macro avg       0.86      0.80      0.82       300\n",
      "weighted avg       0.86      0.87      0.86       300\n",
      "\n"
     ]
    }
   ],
   "source": [
    "from sklearn.metrics import accuracy_score, confusion_matrix, classification_report\n",
    "accuracy = accuracy_score(Y_test, predictions)\n",
    "conf_matrix = confusion_matrix(Y_test, predictions)\n",
    "class_report = classification_report(Y_test, predictions)\n",
    "print(\"Accuracy: \", accuracy)\n",
    "print(\"Confusion Matrix:\\n\", conf_matrix)\n",
    "print(\"Classification Report:\\n\", class_report)"
   ]
  },
  {
   "cell_type": "code",
   "execution_count": null,
   "id": "a582252c-6414-4797-a8d2-43b832aff8c8",
   "metadata": {
    "id": "a582252c-6414-4797-a8d2-43b832aff8c8"
   },
   "outputs": [],
   "source": [
    "X = df_min_max.iloc[:, :-1].values\n",
    "Y = df_min_max.iloc[:, -1].values.reshape(-1,1)\n",
    "from sklearn.model_selection import train_test_split\n",
    "X_train_dt, X_test_dt, Y_train_dt, Y_test_dt = train_test_split(X, Y, test_size=.20, random_state=41)"
   ]
  },
  {
   "cell_type": "code",
   "execution_count": null,
   "id": "7658474c-db14-4147-966d-1845cb518e93",
   "metadata": {
    "id": "7658474c-db14-4147-966d-1845cb518e93",
    "outputId": "08440f18-328a-4a9b-acb3-06db0b4a10ee"
   },
   "outputs": [
    {
     "name": "stdout",
     "output_type": "stream",
     "text": [
      "(1200, 10)\n",
      "(1200, 1)\n"
     ]
    }
   ],
   "source": [
    "print(X_train_dt.shape)\n",
    "print(Y_train_dt.shape)"
   ]
  },
  {
   "cell_type": "code",
   "execution_count": null,
   "id": "f22d1372-4321-400c-9e0b-5441c30171c4",
   "metadata": {
    "id": "f22d1372-4321-400c-9e0b-5441c30171c4",
    "outputId": "230be606-c477-464a-c77a-32966a485934"
   },
   "outputs": [
    {
     "name": "stdout",
     "output_type": "stream",
     "text": [
      "X_9 <= 0.0 ? 0.14172068580101083\n",
      " left:X_7 <= 0.47 ? 0.0673748031138045\n",
      "  left:X_3 <= 0.3333333333333333 ? 0.10481356777653078\n",
      "    left:X_6 <= 0.79 ? 0.10587154972181712\n",
      "        left:X_8 <= 0.73 ? 0.048765112141546496\n",
      "                left:X_8 <= 0.0 ? 0.05124653739612173\n",
      "                                left:1.0\n",
      "                                right:0.0\n",
      "                right:X_2 <= 0.3333333333333333 ? 0.336620644312952\n",
      "                                left:X_0 <= 0.16666666666666666 ? 0.19753086419753085\n",
      "                                                                left:1.0\n",
      "                                                                right:0.0\n",
      "                                right:1.0\n",
      "        right:X_2 <= 0.3333333333333333 ? 0.14814814814814814\n",
      "                left:X_8 <= 0.59 ? 0.49382716049382713\n",
      "                                left:0.0\n",
      "                                right:1.0\n",
      "                right:1.0\n",
      "    right:X_2 <= 0.3333333333333333 ? 0.06311638043195417\n",
      "        left:X_8 <= 0.58 ? 0.18127940320899222\n",
      "                left:X_6 <= 0.7 ? 0.43102040816326526\n",
      "                                left:0.0\n",
      "                                right:1.0\n",
      "                right:X_7 <= 0.0 ? 0.06816568047337264\n",
      "                                left:0.0\n",
      "                                right:X_5 <= 0.8581793054445147 ? 0.03679999999999998\n",
      "                                                                left:1.0\n",
      "                                                                right:0.0\n",
      "        right:X_3 <= 0.4 ? 0.023772418058132447\n",
      "                left:1.0\n",
      "                right:X_7 <= 0.04 ? 0.01028466483011925\n",
      "                                left:X_4 <= 0.75 ? 0.31999999999999984\n",
      "                                                                left:1.0\n",
      "                                                                right:0.0\n",
      "                                right:1.0\n",
      "  right:X_3 <= 0.3333333333333333 ? 0.022031077115505032\n",
      "    left:X_6 <= 0.65 ? 0.07500000000000001\n",
      "        left:X_8 <= 0.52 ? 0.2049011857707509\n",
      "                left:X_2 <= 0.3333333333333333 ? 0.39669421487603307\n",
      "                                left:0.0\n",
      "                                right:1.0\n",
      "                right:X_7 <= 0.5 ? 0.07578621756315554\n",
      "                                left:0.0\n",
      "                                right:X_2 <= 0.0 ? 0.014049586776859371\n",
      "                                                                left:1.0\n",
      "                                                                right:1.0\n",
      "        right:1.0\n",
      "    right:X_2 <= 0.0 ? 0.007891110806042358\n",
      "        left:X_5 <= 0.8192442904827852 ? 0.11932938856015768\n",
      "                left:X_7 <= 0.63 ? 0.041666666666666796\n",
      "                                left:X_3 <= 0.6 ? 0.4444444444444444\n",
      "                                                                left:0.0\n",
      "                                                                right:1.0\n",
      "                                right:1.0\n",
      "                right:0.0\n",
      "        right:1.0\n",
      " right:X_2 <= 0.3333333333333333 ? 0.020658593641384004\n",
      "  left:X_6 <= 0.74 ? 0.003701210553126749\n",
      "    left:X_0 <= 0.0 ? 0.0009092584064248482\n",
      "        left:X_7 <= 0.66 ? 0.08357142857142866\n",
      "                left:0.0\n",
      "                right:X_7 <= 0.72 ? 0.48979591836734704\n",
      "                                left:1.0\n",
      "                                right:0.0\n",
      "        right:X_6 <= 0.21 ? 0.000690975656774756\n",
      "                left:X_6 <= 0.2 ? 0.012599726837922265\n",
      "                                left:X_0 <= 0.9 ? 0.008895044629116652\n",
      "                                                                left:0.0\n",
      "                                                                right:0.0\n",
      "                                right:X_0 <= 0.36666666666666664 ? 0.5\n",
      "                                                                left:1.0\n",
      "                                                                right:0.0\n",
      "                right:X_8 <= 0.77 ? 0.0007976258462526614\n",
      "                                left:X_8 <= 0.32 ? 0.0008267812083850856\n",
      "                                                                left:0.0\n",
      "                                                                right:0.0\n",
      "                                right:X_8 <= 0.8 ? 0.03481661515687966\n",
      "                                                                left:1.0\n",
      "                                                                right:0.0\n",
      "    right:X_8 <= 0.59 ? 0.04321229107081567\n",
      "        left:X_0 <= 0.1 ? 0.003245456378361794\n",
      "                left:X_3 <= 0.0 ? 0.0973183391003461\n",
      "                                left:1.0\n",
      "                                right:X_8 <= 0.42 ? 0.0234375\n",
      "                                                                left:0.0\n",
      "                                                                right:0.0\n",
      "                right:X_8 <= 0.03 ? 0.006156181480856789\n",
      "                                left:X_0 <= 0.7 ? 0.375\n",
      "                                                                left:0.0\n",
      "                                                                right:1.0\n",
      "                                right:0.0\n",
      "        right:X_7 <= 0.74 ? 0.14713482292141655\n",
      "                left:X_8 <= 0.62 ? 0.06838238203907196\n",
      "                                left:1.0\n",
      "                                right:X_9 <= 0.5 ? 0.016671173363618286\n",
      "                                                                left:0.0\n",
      "                                                                right:0.0\n",
      "                right:X_3 <= 0.26666666666666666 ? 0.26574394463667833\n",
      "                                left:X_0 <= 0.0 ? 0.31999999999999984\n",
      "                                                                left:1.0\n",
      "                                                                right:0.0\n",
      "                                right:1.0\n",
      "  right:X_8 <= 0.61 ? 0.08393651806734992\n",
      "    left:X_6 <= 0.71 ? 0.0439372843616922\n",
      "        left:X_5 <= 0.7890827161160316 ? 0.004056068742639862\n",
      "                left:X_4 <= 0.25 ? 0.003533208765075388\n",
      "                                left:X_4 <= 0.0 ? 0.01387755102040833\n",
      "                                                                left:0.0\n",
      "                                                                right:0.0\n",
      "                                right:0.0\n",
      "                right:X_0 <= 0.0 ? 0.07605263157894751\n",
      "                                left:1.0\n",
      "                                right:X_5 <= 0.7964441031675534 ? 0.08895044629116648\n",
      "                                                                left:1.0\n",
      "                                                                right:0.0\n",
      "        right:X_3 <= 0.4666666666666667 ? 0.2400000000000001\n",
      "                left:X_5 <= 0.0801045939366328 ? 0.08526315789473664\n",
      "                                left:1.0\n",
      "                                right:X_5 <= 0.9790540099529582 ? 0.09972299168975085\n",
      "                                                                left:0.0\n",
      "                                                                right:1.0\n",
      "                right:X_7 <= 0.29 ? 0.31999999999999984\n",
      "                                left:0.0\n",
      "                                right:1.0\n",
      "    right:X_3 <= 0.4 ? 0.19839106523237326\n",
      "        left:X_6 <= 0.71 ? 0.07772268135904487\n",
      "                left:X_5 <= 0.011299260249263768 ? 0.03679999999999998\n",
      "                                left:0.0\n",
      "                                right:0.0\n",
      "                right:X_7 <= 0.24 ? 0.5\n",
      "                                left:0.0\n",
      "                                right:1.0\n",
      "        right:X_7 <= 0.47 ? 0.11071983141082514\n",
      "                left:X_6 <= 0.52 ? 0.499054820415879\n",
      "                                left:0.0\n",
      "                                right:1.0\n",
      "                right:1.0\n"
     ]
    }
   ],
   "source": [
    "classifier = DecisionTreeClassifier(min_samples_split=3, max_depth=6)\n",
    "classifier.fit(X_train_dt, Y_train_dt)\n",
    "classifier.print_tree()"
   ]
  },
  {
   "cell_type": "code",
   "execution_count": null,
   "id": "c39d0d98-2061-4e86-92ec-9bfc40acf28c",
   "metadata": {
    "id": "c39d0d98-2061-4e86-92ec-9bfc40acf28c",
    "outputId": "85a27037-a510-425c-cbe5-12fb53fd5da8"
   },
   "outputs": [
    {
     "name": "stdout",
     "output_type": "stream",
     "text": [
      "Accuracy:  0.8966666666666666\n",
      "Confusion Matrix:\n",
      " [[192  16]\n",
      " [ 15  77]]\n",
      "Classification Report:\n",
      "               precision    recall  f1-score   support\n",
      "\n",
      "         0.0       0.93      0.92      0.93       208\n",
      "         1.0       0.83      0.84      0.83        92\n",
      "\n",
      "    accuracy                           0.90       300\n",
      "   macro avg       0.88      0.88      0.88       300\n",
      "weighted avg       0.90      0.90      0.90       300\n",
      "\n"
     ]
    }
   ],
   "source": [
    "from sklearn.metrics import accuracy_score, confusion_matrix, classification_report\n",
    "prediction= classifier.predict(X_test_dt)\n",
    "accuracy = accuracy_score(Y_test_dt, prediction)\n",
    "conf_matrix = confusion_matrix(Y_test_dt, prediction)\n",
    "class_report = classification_report(Y_test_dt,prediction)\n",
    "print(\"Accuracy: \", accuracy)\n",
    "print(\"Confusion Matrix:\\n\", conf_matrix)\n",
    "print(\"Classification Report:\\n\", class_report)"
   ]
  },
  {
   "cell_type": "markdown",
   "id": "411b3d33-fef8-42eb-b24f-8db1eca6e3d6",
   "metadata": {
    "id": "411b3d33-fef8-42eb-b24f-8db1eca6e3d6"
   },
   "source": [
    "# Naive Bayes"
   ]
  },
  {
   "cell_type": "code",
   "execution_count": null,
   "id": "44751cc5-d805-466e-868c-767119baa1f8",
   "metadata": {
    "id": "44751cc5-d805-466e-868c-767119baa1f8"
   },
   "outputs": [],
   "source": [
    "NUM_FEATURES = 10\n",
    "NUM_CLASSES = 2\n",
    "NUM_POINTS = 1500\n",
    "METRIC = \"gaussian\""
   ]
  },
  {
   "cell_type": "code",
   "execution_count": null,
   "id": "afd84207-1eae-4a4b-8f66-8f1be89862a4",
   "metadata": {
    "id": "afd84207-1eae-4a4b-8f66-8f1be89862a4"
   },
   "outputs": [],
   "source": [
    "def plotDists(y) :\n",
    "    return sns.countplot(x=y)\n",
    "\n",
    "def acc(true, pred) :\n",
    "    assert len(true)==len(pred), \"Truth and Pred Lengths not same\"\n",
    "    true = np.array(true)\n",
    "    pred = np.array(pred).astype(np.int32)\n",
    "    return np.sum(true==pred)/len(true)"
   ]
  },
  {
   "cell_type": "code",
   "execution_count": null,
   "id": "b0ca7d11-81d1-4788-8d63-2bebc11e45f6",
   "metadata": {
    "id": "b0ca7d11-81d1-4788-8d63-2bebc11e45f6"
   },
   "outputs": [],
   "source": [
    "class NaiveBayes :\n",
    "    def __init__(self, x, y, metric=\"gaussian\", use_log=False) :\n",
    "        self.x = np.array(x)\n",
    "        self.y = np.array(y)\n",
    "        self.data = np.concatenate((self.x, self.y.reshape(-1, 1)), axis=1)\n",
    "        self.n_features = self.x.shape[1]\n",
    "        self.classes = set(y)\n",
    "        self.n_classes = len(self.classes)\n",
    "        assert metric in [\"gaussian\"], \"Invalid metric\"\n",
    "        self.metric = metric\n",
    "        self.use_log = use_log\n",
    "\n",
    "    def fit(self) :\n",
    "        self.summary = {}\n",
    "        for i in self.classes :\n",
    "            d = self.data[self.data[:,-1]==i]\n",
    "            mean = np.mean(d, axis=0)[:-1]\n",
    "            std = np.std(d, axis=0)[:-1]\n",
    "            l = len(d)\n",
    "            self.summary[i] = {\n",
    "                \"mean\" : mean,\n",
    "                \"std\" : std,\n",
    "                \"len\" : l\n",
    "            }\n",
    "\n",
    "    def get_probability(self, inp, mean, std) :\n",
    "        if self.metric==\"gaussian\" :\n",
    "            exponent = np.exp(-(((inp-mean)**2)/(2*(std**2))))\n",
    "            res = (1 / (np.sqrt(2 * np.pi) * std)) * exponent\n",
    "            if self.use_log :\n",
    "                return np.log(1+res)\n",
    "            return res\n",
    "\n",
    "    def predict(self, x) :\n",
    "        assert self.summary, \"Classifier not fit yet\"\n",
    "        results = []\n",
    "        # Convert x to numerical type if it's a DataFrame\n",
    "        if isinstance(x, pd.DataFrame):\n",
    "            x = x.values.astype(np.float64)\n",
    "        for inp in x :\n",
    "            pred_class = -1\n",
    "            pred_prob = 0\n",
    "            for i in self.classes :\n",
    "                probs = self.get_probability(inp, self.summary[i][\"mean\"], self.summary[i][\"std\"])\n",
    "                class_prob = np.prod(probs)\n",
    "                if class_prob > pred_prob :\n",
    "                    pred_class = i\n",
    "                    pred_prob = class_prob\n",
    "            results.append(pred_class)\n",
    "        return results"
   ]
  },
  {
   "cell_type": "code",
   "execution_count": null,
   "id": "8c73f12c-375b-4319-8381-c2490dfc3f93",
   "metadata": {
    "id": "8c73f12c-375b-4319-8381-c2490dfc3f93",
    "outputId": "f0bc703a-c604-4c24-bd16-a2f86cf8ca6f"
   },
   "outputs": [
    {
     "data": {
      "text/html": [
       "<div>\n",
       "<style scoped>\n",
       "    .dataframe tbody tr th:only-of-type {\n",
       "        vertical-align: middle;\n",
       "    }\n",
       "\n",
       "    .dataframe tbody tr th {\n",
       "        vertical-align: top;\n",
       "    }\n",
       "\n",
       "    .dataframe thead th {\n",
       "        text-align: right;\n",
       "    }\n",
       "</style>\n",
       "<table border=\"1\" class=\"dataframe\">\n",
       "  <thead>\n",
       "    <tr style=\"text-align: right;\">\n",
       "      <th></th>\n",
       "      <th>Age</th>\n",
       "      <th>Gender</th>\n",
       "      <th>EducationLevel</th>\n",
       "      <th>ExperienceYears</th>\n",
       "      <th>PreviousCompanies</th>\n",
       "      <th>DistanceFromCompany</th>\n",
       "      <th>InterviewScore</th>\n",
       "      <th>SkillScore</th>\n",
       "      <th>PersonalityScore</th>\n",
       "      <th>RecruitmentStrategy</th>\n",
       "      <th>HiringDecision</th>\n",
       "    </tr>\n",
       "  </thead>\n",
       "  <tbody>\n",
       "    <tr>\n",
       "      <th>0</th>\n",
       "      <td>0.200000</td>\n",
       "      <td>1.0</td>\n",
       "      <td>0.333333</td>\n",
       "      <td>0.000000</td>\n",
       "      <td>0.50</td>\n",
       "      <td>0.515450</td>\n",
       "      <td>0.48</td>\n",
       "      <td>0.78</td>\n",
       "      <td>0.91</td>\n",
       "      <td>0.0</td>\n",
       "      <td>1.0</td>\n",
       "    </tr>\n",
       "    <tr>\n",
       "      <th>1</th>\n",
       "      <td>0.633333</td>\n",
       "      <td>1.0</td>\n",
       "      <td>1.000000</td>\n",
       "      <td>0.800000</td>\n",
       "      <td>0.50</td>\n",
       "      <td>0.497013</td>\n",
       "      <td>0.35</td>\n",
       "      <td>0.68</td>\n",
       "      <td>0.80</td>\n",
       "      <td>0.5</td>\n",
       "      <td>1.0</td>\n",
       "    </tr>\n",
       "    <tr>\n",
       "      <th>2</th>\n",
       "      <td>0.933333</td>\n",
       "      <td>0.0</td>\n",
       "      <td>0.333333</td>\n",
       "      <td>0.200000</td>\n",
       "      <td>0.25</td>\n",
       "      <td>0.177927</td>\n",
       "      <td>0.20</td>\n",
       "      <td>0.67</td>\n",
       "      <td>0.13</td>\n",
       "      <td>0.5</td>\n",
       "      <td>0.0</td>\n",
       "    </tr>\n",
       "    <tr>\n",
       "      <th>3</th>\n",
       "      <td>0.466667</td>\n",
       "      <td>1.0</td>\n",
       "      <td>0.333333</td>\n",
       "      <td>0.333333</td>\n",
       "      <td>0.25</td>\n",
       "      <td>0.107611</td>\n",
       "      <td>0.36</td>\n",
       "      <td>0.27</td>\n",
       "      <td>0.70</td>\n",
       "      <td>1.0</td>\n",
       "      <td>0.0</td>\n",
       "    </tr>\n",
       "    <tr>\n",
       "      <th>4</th>\n",
       "      <td>0.333333</td>\n",
       "      <td>0.0</td>\n",
       "      <td>0.000000</td>\n",
       "      <td>0.400000</td>\n",
       "      <td>0.00</td>\n",
       "      <td>0.842135</td>\n",
       "      <td>0.23</td>\n",
       "      <td>0.52</td>\n",
       "      <td>0.85</td>\n",
       "      <td>0.5</td>\n",
       "      <td>0.0</td>\n",
       "    </tr>\n",
       "  </tbody>\n",
       "</table>\n",
       "</div>"
      ],
      "text/plain": [
       "        Age  Gender  EducationLevel  ExperienceYears  PreviousCompanies  \\\n",
       "0  0.200000     1.0        0.333333         0.000000               0.50   \n",
       "1  0.633333     1.0        1.000000         0.800000               0.50   \n",
       "2  0.933333     0.0        0.333333         0.200000               0.25   \n",
       "3  0.466667     1.0        0.333333         0.333333               0.25   \n",
       "4  0.333333     0.0        0.000000         0.400000               0.00   \n",
       "\n",
       "   DistanceFromCompany  InterviewScore  SkillScore  PersonalityScore  \\\n",
       "0             0.515450            0.48        0.78              0.91   \n",
       "1             0.497013            0.35        0.68              0.80   \n",
       "2             0.177927            0.20        0.67              0.13   \n",
       "3             0.107611            0.36        0.27              0.70   \n",
       "4             0.842135            0.23        0.52              0.85   \n",
       "\n",
       "   RecruitmentStrategy  HiringDecision  \n",
       "0                  0.0             1.0  \n",
       "1                  0.5             1.0  \n",
       "2                  0.5             0.0  \n",
       "3                  1.0             0.0  \n",
       "4                  0.5             0.0  "
      ]
     },
     "execution_count": 41,
     "metadata": {},
     "output_type": "execute_result"
    }
   ],
   "source": [
    "x = df_min_max.drop(\"HiringDecision\",axis=1)\n",
    "y = df_min_max[\"HiringDecision\"]\n",
    "df_min_max.head()"
   ]
  },
  {
   "cell_type": "code",
   "execution_count": null,
   "id": "18f470fe-3cee-4c26-8031-9672abc328b6",
   "metadata": {
    "id": "18f470fe-3cee-4c26-8031-9672abc328b6",
    "outputId": "07b4353d-e001-4f9e-e6cb-b200e2c7b4c5"
   },
   "outputs": [
    {
     "data": {
      "text/plain": [
       "<Axes: ylabel='count'>"
      ]
     },
     "execution_count": 44,
     "metadata": {},
     "output_type": "execute_result"
    },
    {
     "data": {
      "image/png": "[encoded data removed]",
      "text/plain": [
       "<Figure size 640x480 with 1 Axes>"
      ]
     },
     "metadata": {},
     "output_type": "display_data"
    }
   ],
   "source": [
    "nbg = NaiveBayes(x, y, METRIC)\n",
    "nbg.fit()\n",
    "acc(y, nbg.predict(x.values))\n",
    "plotDists(nbg.predict(x))"
   ]
  },
  {
   "cell_type": "code",
   "execution_count": null,
   "id": "76a34a9a-cac2-4a43-8437-13ee16c2462f",
   "metadata": {
    "id": "76a34a9a-cac2-4a43-8437-13ee16c2462f",
    "outputId": "81e3b118-6085-47f8-ff97-2b86e26488cc"
   },
   "outputs": [
    {
     "data": {
      "text/plain": [
       "<Axes: ylabel='count'>"
      ]
     },
     "execution_count": 45,
     "metadata": {},
     "output_type": "execute_result"
    },
    {
     "data": {
      "image/png": "[encoded data removed]",
      "text/plain": [
       "<Figure size 640x480 with 1 Axes>"
      ]
     },
     "metadata": {},
     "output_type": "display_data"
    }
   ],
   "source": [
    "nbgl = NaiveBayes(x, y, METRIC, use_log=True)\n",
    "nbgl.fit()\n",
    "acc(y, nbgl.predict(x))\n",
    "plotDists(nbgl.predict(x))"
   ]
  },
  {
   "cell_type": "code",
   "execution_count": null,
   "id": "1bd9c04e-e93e-4e23-a17c-daa9c048a3ec",
   "metadata": {
    "id": "1bd9c04e-e93e-4e23-a17c-daa9c048a3ec",
    "outputId": "0a3fee92-c45f-459b-cadd-84e85f947dfa"
   },
   "outputs": [
    {
     "name": "stdout",
     "output_type": "stream",
     "text": [
      "Confusion Matrix:\n",
      "[[839 196]\n",
      " [ 69 396]]\n",
      "\n",
      "Explanation of the Confusion Matrix:\n",
      "True Positive (TP): 396  - The model correctly predicted the positive class (HiringDecision = 1).\n",
      "True Negative (TN): 839  - The model correctly predicted the negative class (HiringDecision = 0).\n",
      "False Positive (FP): 196  - The model incorrectly predicted the positive class (HiringDecision = 1) when it was actually negative (HiringDecision = 0).\n",
      "False Negative (FN): 69  - The model incorrectly predicted the negative class (HiringDecision = 0) when it was actually positive (HiringDecision = 1).\n",
      "\n",
      "Accuracy: 0.8233333333333334\n",
      "Precision: 0.668918918918919\n",
      "Recall: 0.8516129032258064\n",
      "F1-Score: 0.7492904446546831\n"
     ]
    }
   ],
   "source": [
    "from sklearn.metrics import confusion_matrix\n",
    "\n",
    "# Assuming 'y' contains the true labels and 'nbg.predict(x)' contains the predicted labels\n",
    "y_pred = nbg.predict(x)\n",
    "cm = confusion_matrix(y, y_pred)\n",
    "\n",
    "print(\"Confusion Matrix:\")\n",
    "print(cm)\n",
    "\n",
    "#Confusion Matrix\n",
    "print(\"\\nExplanation of the Confusion Matrix:\")\n",
    "print(\"True Positive (TP):\", cm[1, 1], \" - The model correctly predicted the positive class (HiringDecision = 1).\")\n",
    "print(\"True Negative (TN):\", cm[0, 0], \" - The model correctly predicted the negative class (HiringDecision = 0).\")\n",
    "print(\"False Positive (FP):\", cm[0, 1], \" - The model incorrectly predicted the positive class (HiringDecision = 1) when it was actually negative (HiringDecision = 0).\")\n",
    "print(\"False Negative (FN):\", cm[1, 0], \" - The model incorrectly predicted the negative class (HiringDecision = 0) when it was actually positive (HiringDecision = 1).\")\n",
    "\n",
    "# Additional analysis (optional)\n",
    "accuracy = (cm[0, 0] + cm[1, 1]) / np.sum(cm)\n",
    "precision = cm[1, 1] / (cm[1, 1] + cm[0, 1])\n",
    "recall = cm[1, 1] / (cm[1, 1] + cm[1, 0])\n",
    "f1_score = 2 * (precision * recall) / (precision + recall)\n",
    "\n",
    "print(\"\\nAccuracy:\", accuracy)\n",
    "print(\"Precision:\", precision)\n",
    "print(\"Recall:\", recall)\n",
    "print(\"F1-Score:\", f1_score)"
   ]
  },
  {
   "cell_type": "code",
   "execution_count": null,
   "id": "db0d1153-d574-44ab-8a98-880cbe69f50f",
   "metadata": {
    "id": "1bd9c04e-e93e-4e23-a17c-daa9c048a3ec",
    "outputId": "0a3fee92-c45f-459b-cadd-84e85f947dfa"
   },
   "outputs": [
    {
     "name": "stdout",
     "output_type": "stream",
     "text": [
      "Confusion Matrix:\n",
      "[[839 196]\n",
      " [ 69 396]]\n",
      "\n",
      "Explanation of the Confusion Matrix:\n",
      "True Positive (TP): 396  - The model correctly predicted the positive class (HiringDecision = 1).\n",
      "True Negative (TN): 839  - The model correctly predicted the negative class (HiringDecision = 0).\n",
      "False Positive (FP): 196  - The model incorrectly predicted the positive class (HiringDecision = 1) when it was actually negative (HiringDecision = 0).\n",
      "False Negative (FN): 69  - The model incorrectly predicted the negative class (HiringDecision = 0) when it was actually positive (HiringDecision = 1).\n",
      "\n",
      "Accuracy: 0.8233333333333334\n",
      "Precision: 0.668918918918919\n",
      "Recall: 0.8516129032258064\n",
      "F1-Score: 0.7492904446546831\n"
     ]
    }
   ],
   "source": [
    "from sklearn.metrics import confusion_matrix\n",
    "\n",
    "# Assuming 'y' contains the true labels and 'nbg.predict(x)' contains the predicted labels\n",
    "y_pred = nbg.predict(x)\n",
    "cm = confusion_matrix(y, y_pred)\n",
    "\n",
    "print(\"Confusion Matrix:\")\n",
    "print(cm)\n",
    "\n",
    "#Confusion Matrix\n",
    "print(\"\\nExplanation of the Confusion Matrix:\")\n",
    "print(\"True Positive (TP):\", cm[1, 1], \" - The model correctly predicted the positive class (HiringDecision = 1).\")\n",
    "print(\"True Negative (TN):\", cm[0, 0], \" - The model correctly predicted the negative class (HiringDecision = 0).\")\n",
    "print(\"False Positive (FP):\", cm[0, 1], \" - The model incorrectly predicted the positive class (HiringDecision = 1) when it was actually negative (HiringDecision = 0).\")\n",
    "print(\"False Negative (FN):\", cm[1, 0], \" - The model incorrectly predicted the negative class (HiringDecision = 0) when it was actually positive (HiringDecision = 1).\")\n",
    "\n",
    "# Additional analysis (optional)\n",
    "accuracy = (cm[0, 0] + cm[1, 1]) / np.sum(cm)\n",
    "precision = cm[1, 1] / (cm[1, 1] + cm[0, 1])\n",
    "recall = cm[1, 1] / (cm[1, 1] + cm[1, 0])\n",
    "f1_score = 2 * (precision * recall) / (precision + recall)\n",
    "\n",
    "print(\"\\nAccuracy:\", accuracy)\n",
    "print(\"Precision:\", precision)\n",
    "print(\"Recall:\", recall)\n",
    "print(\"F1-Score:\", f1_score)"
   ]
  },
  {
   "cell_type": "code",
   "execution_count": 11,
   "id": "cc217689-e620-47df-8840-4a14a0dc3c29",
   "metadata": {},
   "outputs": [],
   "source": [
    "# CONCLUSION:\n",
    "\n",
    "# Comparative analysis of Logistic Regression, Decision Tree, and Naive Bayes for hiring prediction reveals that Decision Tree consistently\n",
    "# outperforms the other models.\n",
    "# Decision Tree achieved a notable accuracy of 89.6% compared to Logistic Regression's 86.7% and Naive Bayes' 82.3%.\n",
    "# These findings strongly suggest that Decision Tree is the optimal choice for predicting hiring outcomes in this specific dataset"
   ]
  }
 ],
 "metadata": {
  "colab": {
   "provenance": []
  },
  "kernelspec": {
   "display_name": "Python 3 (ipykernel)",
   "language": "python",
   "name": "python3"
  },
  "language_info": {
   "codemirror_mode": {
    "name": "ipython",
    "version": 3
   },
   "file_extension": ".py",
   "mimetype": "text/x-python",
   "name": "python",
   "nbconvert_exporter": "python",
   "pygments_lexer": "ipython3",
   "version": "3.12.4"
  }
 },
 "nbformat": 4,
 "nbformat_minor": 5
}
